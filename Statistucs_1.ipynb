{
 "cells": [
  {
   "cell_type": "markdown",
   "id": "2c714f7d-796b-42de-9863-bdd2a91e8308",
   "metadata": {},
   "source": [
    "ASSIGNMENT: STATISTICS-1"
   ]
  },
  {
   "cell_type": "markdown",
   "id": "a8c6833c-ece1-4e04-a3b7-bd5ceadfc53c",
   "metadata": {},
   "source": [
    "1.What is Statistics?"
   ]
  },
  {
   "cell_type": "markdown",
   "id": "1c47e5de-f66a-4c72-95ac-b4ee54c956aa",
   "metadata": {},
   "source": [
    "Statistics is a branch of mathematics that deals with the collection, analysis, interpretation, presentation, and organization of data. It involves using various techniques and methods to summarize and make sense of data, including calculating measures of central tendency, variability, correlation, and regression."
   ]
  },
  {
   "cell_type": "markdown",
   "id": "d075d4de-ffcf-4338-a0f4-39ce4e9c7ba7",
   "metadata": {},
   "source": [
    "2.  Define the different types of statistics and give an example of when each type might be used"
   ]
  },
  {
   "cell_type": "markdown",
   "id": "cc75fe95-520f-4340-8472-a0cb9613c621",
   "metadata": {},
   "source": [
    "There are two main types of statistics: descriptive statistics and inferential statistics.\n",
    "\n",
    "Descriptive statistics: Descriptive statistics involves summarizing and describing a set of data, typically through measures of central tendency (mean, median, mode) and measures of variability (standard deviation, range, etc.). It is used to provide a clear and concise summary of the data, to help identify patterns, and to make comparisons between different groups or variables.\n",
    "For example, descriptive statistics might be used to summarize the grades of a class of students by calculating the average grade, the range of grades, and the distribution of grades across different categories.\n",
    "\n",
    "Inferential statistics: Inferential statistics involves using data from a sample to draw conclusions about a larger population. It is used to test hypotheses, to estimate the size of an effect, and to determine the degree of uncertainty associated with these conclusions.\n",
    "For example, inferential statistics might be used to determine whether a new drug treatment is effective by comparing the results of a randomized control trial to a control group, and using statistical methods to determine whether the difference between the groups is statistically significant."
   ]
  },
  {
   "cell_type": "markdown",
   "id": "df1bc197-b0e1-4693-82d1-d60971fc9a8d",
   "metadata": {},
   "source": [
    "3.  What are the different types of data and how do they differ from each other? Provide an example of \n",
    "each type of data. "
   ]
  },
  {
   "cell_type": "markdown",
   "id": "a1ac781c-0ce2-40ed-b8f7-a5f63a4f6ea4",
   "metadata": {},
   "source": [
    "There are four main types of data: nominal, ordinal, interval, and ratio. These types of data differ based on the level of measurement and the types of operations that can be performed on them.\n",
    "\n",
    "Nominal data: Nominal data is categorical data where each observation is assigned to a particular category. The categories have no inherent order or ranking, and the only operation that can be performed is counting.\n",
    "Example: Gender (male or female), favorite color (red, blue, green, etc.), or type of car (sedan, SUV, truck).\n",
    "\n",
    "Ordinal data: Ordinal data is categorical data where each observation can be ranked or ordered. The intervals between ranks may not be equal, and there may not be a meaningful zero point. The operations that can be performed include ranking, counting, and calculating percentages.\n",
    "Example: Letter grades (A, B, C, etc.), levels of education (elementary, high school, college, etc.), or Likert scales (strongly agree, agree, neutral, disagree, strongly disagree).\n",
    "\n",
    "Interval data: Interval data is numerical data where the intervals between the values are equal, but there is no meaningful zero point. The operations that can be performed include calculating differences and ratios, but not meaningful proportions or percentages.\n",
    "Example: Temperature measured in Celsius or Fahrenheit, IQ scores, or years in the Gregorian calendar.\n",
    "\n",
    "Ratio data: Ratio data is numerical data where the intervals between the values are equal, and there is a meaningful zero point. The operations that can be performed include calculating ratios, differences, and proportions.\n",
    "Example: Height, weight, time, or income."
   ]
  },
  {
   "cell_type": "markdown",
   "id": "fb4933ba-364d-446a-a922-8bb64b404034",
   "metadata": {},
   "source": [
    " 4.  Categorise the following datasets with respect to quantitative and qualitative data types:\n",
    "\n",
    "(i)\tGrading in exam: A+, A, B+, B, C+, C, D, E\n",
    "\n",
    "(ii)\tColour of mangoes: yellow, green, orange, red\n",
    "\n",
    "(iii)\tHeight data of a class: [178.9, 179, 179.5, 176, 177.2, 178.3, 175.8,...]\n",
    "\n",
    "(iv)\tNumber of mangoes exported by a farm: [500, 600, 478, 672, …]"
   ]
  },
  {
   "cell_type": "markdown",
   "id": "5c07cf73-459a-4a7f-aca2-57fbb6157c3b",
   "metadata": {},
   "source": [
    "I) QUALITATIVE(ORDINAL)\n",
    "\n",
    "II) QUALITATIVE(NOMINAL)\n",
    "\n",
    "III) QUANTITATIVE(CONTINUOUS)\n",
    "\n",
    "IV) QUANTITATIVE(DISCRETE)"
   ]
  },
  {
   "cell_type": "markdown",
   "id": "990a4ef7-d9cf-450a-aa51-2990716475d0",
   "metadata": {},
   "source": [
    "5. Explain the concept of levels of measurement and give an example of a variable for each level"
   ]
  },
  {
   "cell_type": "markdown",
   "id": "d019ba8a-5baa-4791-816b-23233a7ee5e4",
   "metadata": {},
   "source": [
    "Levels of measurement, also known as scales of measurement, refer to the different ways in which variables can be measured and classified. There are four main levels of measurement: nominal, ordinal, interval, and ratio.\n",
    "\n",
    "Nominal level of measurement: Nominal data consists of categorical data that cannot be ordered or ranked. The categories have no inherent order or value, and are simply used for classification purposes. Examples of nominal variables include gender (male or female), eye color (brown, blue, green, etc.), or type of car (sedan, SUV, truck).\n",
    "\n",
    "Ordinal level of measurement: Ordinal data consists of categorical data that can be ranked or ordered. The intervals between ranks may not be equal, and there may not be a meaningful zero point. Examples of ordinal variables include letter grades (A, B, C, etc.), education level (elementary, high school, college, etc.), or income brackets (low, medium, high).\n",
    "\n",
    "Interval level of measurement: Interval data consists of numerical data where the intervals between the values are equal, but there is no meaningful zero point. Examples of interval variables include temperature measured in Celsius or Fahrenheit, IQ scores, or years in the Gregorian calendar.\n",
    "\n",
    "Ratio level of measurement: Ratio data consists of numerical data where the intervals between the values are equal, and there is a meaningful zero point. Examples of ratio variables include height, weight, time, or income."
   ]
  },
  {
   "cell_type": "markdown",
   "id": "a65ee093-7b90-44e3-a46a-05878bd7cf6c",
   "metadata": {},
   "source": [
    "6. Why is it important to understand the level of measurement when analyzing data? Provide an \n",
    "example to illustrate your answer."
   ]
  },
  {
   "cell_type": "markdown",
   "id": "833cf5b3-2c3e-4c0e-bc15-3e864528704c",
   "metadata": {},
   "source": [
    "It is important to understand the level of measurement when analyzing data because it determines the types of statistical analyses that can be used and the meaningfulness of the results. Different levels of measurement have different mathematical properties, and certain statistical tests or techniques are only applicable for certain types of data.\n",
    "\n",
    "For example, if a researcher wants to investigate the relationship between two variables, they must consider the level of measurement of each variable before selecting an appropriate statistical analysis. If one variable is nominal and the other is interval, they cannot use correlation or regression analysis since these methods require interval or ratio data. Instead, they might use chi-square analysis or contingency tables.\n",
    "\n",
    "Similarly, if a researcher wants to calculate the mean of a set of values, they must ensure that the data is at least at the interval level of measurement. For instance, if they try to calculate the mean of nominal data, such as favorite colors of people, it would not make sense since there is no inherent order to the categories."
   ]
  },
  {
   "cell_type": "markdown",
   "id": "9490502a-5be8-43dc-9362-7aa8fbbc14e0",
   "metadata": {},
   "source": [
    "7. How nominal data type is different from ordinal data type."
   ]
  },
  {
   "cell_type": "markdown",
   "id": "44bbdc91-a8d2-41fd-8f0d-511391c94552",
   "metadata": {},
   "source": [
    "Nominal and ordinal are both types of categorical data, but they differ in the level of measurement and the way in which the categories are ordered.\n",
    "\n",
    "Nominal data is categorical data where the categories have no inherent order or value. The categories are simply used for classification purposes, and there is no sense of magnitude or direction. Examples of nominal data include gender (male or female), race/ethnicity, or types of fruits.\n",
    "\n",
    "On the other hand, ordinal data is categorical data where the categories can be ranked or ordered. The categories have a sense of direction or magnitude, but the intervals between categories may not be equal. Examples of ordinal data include letter grades (A, B, C, etc.), socioeconomic status (low, middle, high), or customer satisfaction levels (very dissatisfied, dissatisfied, neutral, satisfied, very satisfied)."
   ]
  },
  {
   "cell_type": "markdown",
   "id": "7fe62c5e-7184-468f-a70b-a2ec8de743a0",
   "metadata": {},
   "source": [
    "8. Which type of plot can be used to display data in terms of range?"
   ]
  },
  {
   "cell_type": "markdown",
   "id": "9af20073-da9b-4b27-bb90-ed69408a0eaf",
   "metadata": {},
   "source": [
    "A box plot, also known as a box-and-whisker plot, can be used to display data in terms of range. A box plot displays the distribution of a dataset through five summary statistics: the minimum and maximum values, the lower and upper quartiles, and the median.\n",
    "\n",
    "The box in the plot represents the interquartile range (IQR), which contains the middle 50% of the data. The median is represented by a horizontal line inside the box. The whiskers extend from the box to the minimum and maximum values, or to a certain distance beyond the box (typically 1.5 times the IQR).\n",
    "\n",
    "Box plots are useful for comparing the ranges and distributions of multiple datasets at once. They allow us to easily identify outliers, the spread of the data, and the position of the median. They can also be used to detect skewness or asymmetry in the data.\n",
    "\n",
    "Therefore, if you want to display data in terms of range and compare the distribution of multiple datasets, you can use a box plot."
   ]
  },
  {
   "cell_type": "code",
   "execution_count": 7,
   "id": "dbf7fded-aee7-4afc-9e50-6a819e379665",
   "metadata": {},
   "outputs": [
    {
     "data": {
      "image/png": "[encoded data removed]",
      "text/plain": [
       "<Figure size 640x480 with 1 Axes>"
      ]
     },
     "metadata": {},
     "output_type": "display_data"
    }
   ],
   "source": [
    "import matplotlib.pyplot as plt\n",
    "import numpy as np\n",
    "data = np.random.randint(2, 101, size=100)\n",
    "plt.boxplot(data)\n",
    "plt.show()"
   ]
  },
  {
   "cell_type": "markdown",
   "id": "4047059c-9e6f-4494-8dcc-df9cd4f33d37",
   "metadata": {},
   "source": [
    "9. Describe the difference between descriptive and inferential statistics. Give an example of each \n",
    "type of statistics and explain how they are used."
   ]
  },
  {
   "cell_type": "markdown",
   "id": "83615bde-3f65-4742-a8d1-04bb9873dd49",
   "metadata": {},
   "source": [
    "Descriptive statistics is the branch of statistics that deals with summarizing and describing the features of a dataset. It involves methods such as measures of central tendency (mean, median, mode), measures of variability (range, variance, standard deviation), and graphical representations (histograms, box plots, scatter plots). The purpose of descriptive statistics is to provide a summary of the data in a meaningful and informative way, to help us understand the patterns and characteristics of the data.\n",
    "\n",
    "An example of descriptive statistics is calculating the mean and standard deviation of the heights of a group of people. By summarizing the data in this way, we can get a general idea of the typical height of the group and how spread out the data is.\n",
    "\n",
    "Inferential statistics, on the other hand, is the branch of statistics that deals with making inferences and predictions about a population based on a sample of data. It involves methods such as hypothesis testing, confidence intervals, and regression analysis. The purpose of inferential statistics is to use the sample data to make generalizations about the population from which the sample was drawn.\n",
    "\n",
    "An example of inferential statistics is conducting a hypothesis test to determine if there is a significant difference in the mean heights of two groups of people. By analyzing the sample data and calculating a test statistic, we can make an inference about whether the difference in means is likely due to chance or a real difference in the population means."
   ]
  },
  {
   "cell_type": "markdown",
   "id": "2149059c-2bee-478b-8765-621c5ada80f7",
   "metadata": {},
   "source": [
    "10.  What are some common measures of central tendency and variability used in statistics? Explain \n",
    "how each measure can be used to describe a dataset"
   ]
  },
  {
   "cell_type": "markdown",
   "id": "dbbf3784-e017-4ec0-84f3-f8fdae912a6d",
   "metadata": {},
   "source": [
    "Measures of central tendency and variability are commonly used in statistics to describe and summarize a dataset. Here are some of the most common measures of central tendency and variability, along with a brief explanation of how each measure can be used to describe a dataset:\n",
    "\n",
    "Measures of Central Tendency:\n",
    "\n",
    "Mean: The mean is the average value of a dataset. It is calculated by adding up all the values in the dataset and dividing by the number of values. The mean is a useful measure of central tendency because it takes into account all the values in the dataset.\n",
    "\n",
    "Median: The median is the middle value of a dataset when the values are arranged in order. It is a useful measure of central tendency because it is not affected by extreme values (outliers) in the dataset.\n",
    "\n",
    "Mode: The mode is the value that occurs most frequently in a dataset. It is a useful measure of central tendency because it identifies the most common value in the dataset.\n",
    "\n",
    "Measures of Variability:\n",
    "\n",
    "Range: The range is the difference between the maximum and minimum values in a dataset. It is a useful measure of variability because it provides an idea of how spread out the data is.\n",
    "\n",
    "Variance: The variance measures how much the values in a dataset vary from the mean. It is calculated by taking the average of the squared differences between each value and the mean. A higher variance indicates that the data is more spread out.\n",
    "\n",
    "Standard Deviation: The standard deviation is the square root of the variance. It is a useful measure of variability because it is in the same units as the original data, and provides a measure of how much the data deviates from the mean.\n",
    "\n",
    "Each of these measures can be used to describe a dataset in different ways. The mean, median, and mode provide information about the central tendency of the data, while the range, variance, and standard deviation provide information about the variability of the data. For example, a dataset with a large range may indicate that the data is spread out, while a small standard deviation may indicate that the data is tightly clustered around the mean. By using a combination of these measures, we can get a better understanding of the patterns and characteristics of a dataset."
   ]
  },
  {
   "cell_type": "code",
   "execution_count": null,
   "id": "f22b2cda-c98c-46e3-b53c-62de613e3c65",
   "metadata": {},
   "outputs": [],
   "source": []
  }
 ],
 "metadata": {
  "kernelspec": {
   "display_name": "Python 3 (ipykernel)",
   "language": "python",
   "name": "python3"
  },
  "language_info": {
   "codemirror_mode": {
    "name": "ipython",
    "version": 3
   },
   "file_extension": ".py",
   "mimetype": "text/x-python",
   "name": "python",
   "nbconvert_exporter": "python",
   "pygments_lexer": "ipython3",
   "version": "3.10.8"
  }
 },
 "nbformat": 4,
 "nbformat_minor": 5
}
